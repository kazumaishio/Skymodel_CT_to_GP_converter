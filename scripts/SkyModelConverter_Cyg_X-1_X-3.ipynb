{
 "cells": [
  {
   "cell_type": "markdown",
   "metadata": {},
   "source": [
    "# Skymodel converter for Cyg_X-1_X-3\n",
    "-----\n",
    "-  prototype version of skymodel converter\n",
    "-  use the latest gammapy version"
   ]
  },
  {
   "cell_type": "markdown",
   "metadata": {},
   "source": [
    "## Generate Gammapy Skymodel\n",
    "## CygX1"
   ]
  },
  {
   "cell_type": "code",
   "execution_count": 21,
   "metadata": {},
   "outputs": [
    {
     "name": "stdout",
     "output_type": "stream",
     "text": [
      "@ generate_spectralmodel: This spectral model is  ExponentialCutoffPowerLaw\n",
      "processes 1 source models in 0.0612 seconds\n"
     ]
    }
   ],
   "source": [
    "import os\n",
    "modelfiledir=\"/Users/kazuma/Workspace/CTA/20231206_CTADC_Convert_others/skymodels/Cyg_X-1_X-3\"\n",
    "modelxmlfilepath=os.path.join(modelfiledir ,\"Cyg_X-1_DC - Giovanni Piano.xml\")\n",
    "outyamlfilename=\"/Users/kazuma/Workspace/CTA/20231206_CTADC_Convert_others/skymodels/Cyg_X-1_X-3/modelconvert_output/spectral_spatial_models_Cyg_X-1.yaml\"\n",
    "\n",
    "import sys \n",
    "sys.path.append(os.path.abspath(\"../skymodelconverter\"))\n",
    "from convert_spectralmodels import ConvertSpectralModel\n",
    "from convert_spatialmodels  import ConvertSpatialModel\n",
    "from convert_temporalmodels  import ConvertTemporalModel\n",
    "\n",
    "converter_spectral=ConvertSpectralModel(modelfiledir)\n",
    "converter_spatial =ConvertSpatialModel(modelfiledir) \n",
    "converter_temporal =ConvertTemporalModel(modelfiledir) \n",
    "########################################################\n",
    "#   Spectral + spatial + temporal + save\n",
    "########################################################\n",
    "from gammapy.modeling.models import SkyModel\n",
    "import xmltodict\n",
    "import time\n",
    "tic = time.perf_counter()\n",
    "with open(modelxmlfilepath, encoding='utf-8') as fp:\n",
    "  xml_data = fp.read()\n",
    "  # xml -> dict\n",
    "  dict_data = xmltodict.parse(xml_data)  \n",
    "  if type(dict_data[\"source_library\"][\"source\"]) == list: \n",
    "    dict_data_subset = dict_data[\"source_library\"][\"source\"]\n",
    "  else:\n",
    "    dict_data_subset = [dict_data[\"source_library\"][\"source\"]]\n",
    "  \n",
    "  firstEvtNo=0  \n",
    "  EvtNo=firstEvtNo\n",
    "\n",
    "  from gammapy.modeling.models import Models\n",
    "  skymodels = Models()\n",
    "  for data in dict_data_subset:\n",
    "    gp_spectralmodel=None\n",
    "    gp_spatialmodel= None\n",
    "    gp_temporalmodel=None\n",
    "    EvtNo=EvtNo+1\n",
    "\n",
    "    ct_spatialinfo=data[\"spatialModel\"]\n",
    "    spatialtype=ct_spatialinfo[\"@type\"] \n",
    "    # print(\"inside the region: {}, {}\".format(data['@name'],spatialtype) )\n",
    "\n",
    "    # ======= Generate skymodel for selected source =============\n",
    "    ct_spectralinfo = data[\"spectrum\"]    \n",
    "    gp_spectralmodel=converter_spectral.generate_spectralmodel(ct_spectralinfo)\n",
    "    # print(gp_spectralmodel)\n",
    "    if \"spatialModel\" in data.keys():\n",
    "      # print('++++++++++ spatial info detected')      \n",
    "      ct_spatialinfo = data[\"spatialModel\"]\n",
    "      ct_spatial_parameters = ct_spatialinfo[\"parameter\"]      \n",
    "      # print('__________  parameters in ctools format _______________________________')\n",
    "      # print(\"Spatial type: \", ct_spatialinfo[\"@type\"], \"with \", len(ct_spatial_parameters), \"parameters\")\n",
    "      gp_spatialmodel=converter_spatial.generate_spatialmodel(ct_spatialinfo)\n",
    "      # print(gp_spatialmodel)\n",
    "    if \"temporal\" in data.keys():\n",
    "      # print('++++++++++ spatial info detected')      \n",
    "      ct_temporalinfo = data[\"temporal\"]\n",
    "      ct_temporal_parameters = ct_temporalinfo[\"parameter\"]      \n",
    "      gp_temporalmodel=converter_temporal.generate_temporalmodel(ct_temporalinfo)\n",
    "      # print(gp_spatialmodel)\n",
    "    skymodel = SkyModel(\n",
    "      name=data['@name'],\n",
    "      spectral_model= gp_spectralmodel,\n",
    "      spatial_model=gp_spatialmodel,\n",
    "      temporal_model=gp_temporalmodel\n",
    "      )\n",
    "    skymodels.append(skymodel)\n",
    "  skymodels.write(outyamlfilename, overwrite=True) \n",
    "  toc = time.perf_counter()\n",
    "  print(f\"processes {EvtNo-firstEvtNo:d} source models in {toc - tic:0.4f} seconds\")      \n",
    "\n"
   ]
  },
  {
   "cell_type": "markdown",
   "metadata": {},
   "source": [
    "## CygX3"
   ]
  },
  {
   "cell_type": "code",
   "execution_count": 22,
   "metadata": {},
   "outputs": [
    {
     "name": "stdout",
     "output_type": "stream",
     "text": [
      "@ generate_spectralmodel: This spectral model is  ExponentialCutoffPowerLaw\n",
      "processes 1 source models in 0.0544 seconds\n"
     ]
    }
   ],
   "source": [
    "import os\n",
    "modelfiledir=\"/Users/kazuma/Workspace/CTA/20231206_CTADC_Convert_others/skymodels/Cyg_X-1_X-3\"\n",
    "modelxmlfilepath=os.path.join(modelfiledir ,\"Cyg_X-3_DC - Giovanni Piano.xml\")\n",
    "outyamlfilename=\"/Users/kazuma/Workspace/CTA/20231206_CTADC_Convert_others/skymodels/Cyg_X-1_X-3/modelconvert_output/spectral_spatial_models_Cyg_X-3.yaml\"\n",
    "\n",
    "import sys \n",
    "sys.path.append(os.path.abspath(\"../skymodelconverter\"))\n",
    "from convert_spectralmodels import ConvertSpectralModel\n",
    "from convert_spatialmodels  import ConvertSpatialModel\n",
    "from convert_temporalmodels  import ConvertTemporalModel\n",
    "\n",
    "converter_spectral=ConvertSpectralModel(modelfiledir)\n",
    "converter_spatial =ConvertSpatialModel(modelfiledir) \n",
    "converter_temporal =ConvertTemporalModel(modelfiledir) \n",
    "########################################################\n",
    "#   Spectral + spatial + temporal + save\n",
    "########################################################\n",
    "from gammapy.modeling.models import SkyModel\n",
    "import xmltodict\n",
    "import time\n",
    "tic = time.perf_counter()\n",
    "with open(modelxmlfilepath, encoding='utf-8') as fp:\n",
    "  xml_data = fp.read()\n",
    "  # xml -> dict\n",
    "  dict_data = xmltodict.parse(xml_data)  \n",
    "  if type(dict_data[\"source_library\"][\"source\"]) == list: \n",
    "    dict_data_subset = dict_data[\"source_library\"][\"source\"]\n",
    "  else:\n",
    "    dict_data_subset = [dict_data[\"source_library\"][\"source\"]]\n",
    "  \n",
    "  firstEvtNo=0  \n",
    "  EvtNo=firstEvtNo\n",
    "\n",
    "  from gammapy.modeling.models import Models\n",
    "  skymodels = Models()\n",
    "  for data in dict_data_subset:\n",
    "    gp_spectralmodel=None\n",
    "    gp_spatialmodel= None\n",
    "    gp_temporalmodel=None\n",
    "    EvtNo=EvtNo+1\n",
    "\n",
    "    ct_spatialinfo=data[\"spatialModel\"]\n",
    "    spatialtype=ct_spatialinfo[\"@type\"] \n",
    "    # print(\"inside the region: {}, {}\".format(data['@name'],spatialtype) )\n",
    "\n",
    "    # ======= Generate skymodel for selected source =============\n",
    "    ct_spectralinfo = data[\"spectrum\"]    \n",
    "    gp_spectralmodel=converter_spectral.generate_spectralmodel(ct_spectralinfo)\n",
    "    # print(gp_spectralmodel)\n",
    "    if \"spatialModel\" in data.keys():\n",
    "      # print('++++++++++ spatial info detected')      \n",
    "      ct_spatialinfo = data[\"spatialModel\"]\n",
    "      ct_spatial_parameters = ct_spatialinfo[\"parameter\"]      \n",
    "      # print('__________  parameters in ctools format _______________________________')\n",
    "      # print(\"Spatial type: \", ct_spatialinfo[\"@type\"], \"with \", len(ct_spatial_parameters), \"parameters\")\n",
    "      gp_spatialmodel=converter_spatial.generate_spatialmodel(ct_spatialinfo)\n",
    "      # print(gp_spatialmodel)\n",
    "    if \"temporal\" in data.keys():\n",
    "      # print('++++++++++ spatial info detected')      \n",
    "      ct_temporalinfo = data[\"temporal\"]\n",
    "      ct_temporal_parameters = ct_temporalinfo[\"parameter\"]      \n",
    "      gp_temporalmodel=converter_temporal.generate_temporalmodel(ct_temporalinfo)\n",
    "      # print(gp_spatialmodel)\n",
    "    skymodel = SkyModel(\n",
    "      name=data['@name'],\n",
    "      spectral_model= gp_spectralmodel,\n",
    "      spatial_model=gp_spatialmodel,\n",
    "      temporal_model=gp_temporalmodel\n",
    "      )\n",
    "    skymodels.append(skymodel)\n",
    "  skymodels.write(outyamlfilename, overwrite=True) \n",
    "  toc = time.perf_counter()\n",
    "  print(f\"processes {EvtNo-firstEvtNo:d} source models in {toc - tic:0.4f} seconds\")      \n",
    "\n"
   ]
  },
  {
   "cell_type": "markdown",
   "metadata": {},
   "source": [
    "# bug対応（条件分岐導入）\n"
   ]
  },
  {
   "cell_type": "code",
   "execution_count": 31,
   "metadata": {},
   "outputs": [
    {
     "name": "stdout",
     "output_type": "stream",
     "text": [
      "<class 'list'>\n",
      "<class 'collections.OrderedDict'>\n",
      "<class 'list'>\n"
     ]
    }
   ],
   "source": [
    "import os\n",
    "modelfiledir=\"/Users/kazuma/Workspace/CTA/20221012_NewSkymdlChk/12_Software to assemble Galactic models/gps-luigitibaldo/skymodel/output/\"\n",
    "modelxmlfilepath=os.path.join(modelfiledir ,\"models_gps.xml\")\n",
    "outyamlfilename=\"../outputs/spectral_spatial_models_gps_2000-2500.yaml\"\n",
    "\n",
    "\n",
    "import sys \n",
    "sys.path.append(os.path.abspath(\"../skymodelconverter\"))\n",
    "from convert_spectralmodels import ConvertSpectralModel\n",
    "from convert_spatialmodels  import ConvertSpatialModel\n",
    "from convert_temporalmodels  import ConvertTemporalModel\n",
    "\n",
    "converter_spectral=ConvertSpectralModel(modelfiledir)\n",
    "converter_spatial =ConvertSpatialModel(modelfiledir) \n",
    "converter_temporal =ConvertTemporalModel(modelfiledir) \n",
    "from gammapy.modeling.models import SkyModel\n",
    "import xmltodict\n",
    "import time\n",
    "tic = time.perf_counter()\n",
    "with open(modelxmlfilepath, encoding='utf-8') as fp:\n",
    "  xml_data = fp.read()\n",
    "  # xml -> dict\n",
    "  dict_data = xmltodict.parse(xml_data)  \n",
    "  dict_data_subset = dict_data[\"source_library\"][\"source\"]\n",
    "  \n",
    "  print(type(dict_data_subset))\n",
    "  print(type(dict_data_subset[0]))\n",
    "  if type(dict_data[\"source_library\"][\"source\"]) == list: \n",
    "    dict_data_subset = dict_data[\"source_library\"][\"source\"]\n",
    "  else:\n",
    "    dict_data_subset = [dict_data[\"source_library\"][\"source\"]]\n",
    "  print(type(dict_data_subset))\n"
   ]
  },
  {
   "cell_type": "code",
   "execution_count": 32,
   "metadata": {},
   "outputs": [
    {
     "name": "stdout",
     "output_type": "stream",
     "text": [
      "<class 'collections.OrderedDict'>\n",
      "<class 'list'>\n"
     ]
    }
   ],
   "source": [
    "import os\n",
    "modelfiledir=\"/Users/kazuma/Workspace/CTA/20231206_CTADC_Convert_others/skymodels/Cyg_X-1_X-3\"\n",
    "modelxmlfilepath=os.path.join(modelfiledir ,\"Cyg_X-1_DC - Giovanni Piano.xml\")\n",
    "outyamlfilename=\"/Users/kazuma/Workspace/CTA/20231206_CTADC_Convert_others/skymodels/Cyg_X-1_X-3/modelconvert_output/spectral_spatial_models_Cyg_X-1.yaml\"\n",
    "\n",
    "\n",
    "import sys \n",
    "sys.path.append(os.path.abspath(\"../skymodelconverter\"))\n",
    "from convert_spectralmodels import ConvertSpectralModel\n",
    "from convert_spatialmodels  import ConvertSpatialModel\n",
    "from convert_temporalmodels  import ConvertTemporalModel\n",
    "\n",
    "converter_spectral=ConvertSpectralModel(modelfiledir)\n",
    "converter_spatial =ConvertSpatialModel(modelfiledir) \n",
    "converter_temporal =ConvertTemporalModel(modelfiledir) \n",
    "from gammapy.modeling.models import SkyModel\n",
    "import xmltodict\n",
    "import time\n",
    "tic = time.perf_counter()\n",
    "with open(modelxmlfilepath, encoding='utf-8') as fp:\n",
    "  xml_data = fp.read()\n",
    "  # xml -> dict\n",
    "  dict_data = xmltodict.parse(xml_data)  \n",
    "  dict_data_subset = dict_data[\"source_library\"][\"source\"]\n",
    "  \n",
    "  print(type(dict_data_subset))\n",
    "  # print(type(dict_data_subset[0]))\n",
    "  if type(dict_data[\"source_library\"][\"source\"]) == list: \n",
    "    dict_data_subset = dict_data[\"source_library\"][\"source\"]\n",
    "  else:\n",
    "    dict_data_subset = [dict_data[\"source_library\"][\"source\"]]\n",
    "  print(type(dict_data_subset))  "
   ]
  }
 ],
 "metadata": {
  "kernelspec": {
   "display_name": "Python 3.8.12 ('base')",
   "language": "python",
   "name": "python3"
  },
  "language_info": {
   "codemirror_mode": {
    "name": "ipython",
    "version": 3
   },
   "file_extension": ".py",
   "mimetype": "text/x-python",
   "name": "python",
   "nbconvert_exporter": "python",
   "pygments_lexer": "ipython3",
   "version": "3.11.5"
  },
  "orig_nbformat": 4,
  "vscode": {
   "interpreter": {
    "hash": "cf213c634ed062bad25259d7b79b386b3e18134c134ee7a2ed755f6f160b08a5"
   }
  }
 },
 "nbformat": 4,
 "nbformat_minor": 2
}
