{
 "cells": [
  {
   "cell_type": "markdown",
   "metadata": {},
   "source": [
    "# Skymodel converter for gps\n",
    "-----\n",
    "-  prototype version of skymodel converter\n",
    "-  for gps model\n",
    "-  use the latest gammapy version"
   ]
  },
  {
   "cell_type": "markdown",
   "metadata": {},
   "source": [
    "## Region selection"
   ]
  },
  {
   "cell_type": "code",
   "execution_count": 1,
   "metadata": {},
   "outputs": [],
   "source": [
    "import numpy as np\n",
    "from astropy.io import fits\n",
    "import astropy.units as u\n",
    "\n",
    "def get_values(parameters):\n",
    "  paramvalues={}\n",
    "  for parameter in parameters :    \n",
    "    paramvalues[parameter['@name']]=float(parameter['@value'])*float(parameter['@scale'])\n",
    "  return paramvalues\n",
    "\n",
    "def get_galactic_edges_from_2dimfits(wcs, image) : \n",
    "  im_gal_lon_npix=image.shape[0]\n",
    "  im_gal_lat_npix=image.shape[1]\n",
    "  lon1,lat1 = wcs.all_pix2world( 0, 0, 0)\n",
    "  lon2,lat2 = wcs.all_pix2world(im_gal_lon_npix,im_gal_lat_npix, 1)\n",
    "  im_gal_lonmin, im_gal_lonmax = sorted([lon1,lon2])\n",
    "  im_gal_latmin, im_gal_latmax = sorted([lat1,lat2])\n",
    "  return im_gal_lonmin, im_gal_lonmax, im_gal_latmin, im_gal_latmax\n",
    "\n",
    "def get_galactic_edges_from_3dimfits(wcs, image) : \n",
    "  #assume that wcs.array_shape=(energybins, xbins, ybins)\n",
    "  # where xbins=ybins\n",
    "  xbins=wcs.array_shape[1]\n",
    "  ybins=wcs.array_shape[2]\n",
    "  if (xbins!=ybins) : \n",
    "    print('!!!!!!!!!!!! exception happened!!!!!!!! xbins={} and ybins={} '.format(xbins,ybins))\n",
    "  # x=np.arange(xbins)\n",
    "  # y=np.arange(ybins)\n",
    "  ncoarsebins=10\n",
    "  x = np.linspace(0,xbins-1, ncoarsebins, dtype=int)\n",
    "  y = np.linspace(0,ybins-1, ncoarsebins, dtype=int)\n",
    "  from astropy.wcs.wcsapi import SlicedLowLevelWCS\n",
    "  slices = [0, slice(0, xbins), slice(0, ybins)]  \n",
    "  subwcs = SlicedLowLevelWCS(wcs, slices=slices) \n",
    "  import itertools\n",
    "  pixelgrid=list(itertools.product(x, y))\n",
    "  mapcoord_icrs=subwcs.pixel_to_world_values(pixelgrid[0],pixelgrid[1], 1)\n",
    "  from astropy.coordinates import SkyCoord  # High-level coordinates\n",
    "  import astropy.units as u\n",
    "  c = SkyCoord(mapcoord_icrs[0], mapcoord_icrs[1], frame=\"icrs\", unit=\"deg\")  # 3 coords\n",
    "  galactic=c.galactic\n",
    "  im_gal_lonmin = galactic.l.deg.min()\n",
    "  im_gal_lonmax = galactic.l.deg.max()\n",
    "  im_gal_latmin = galactic.b.deg.min()\n",
    "  im_gal_latmax = galactic.b.deg.max()  \n",
    "  return im_gal_lonmin, im_gal_lonmax, im_gal_latmin, im_gal_latmax\n",
    "\n",
    "from astropy.coordinates import SkyCoord\n",
    "from astropy.wcs import WCS\n",
    "def see_if_in_the_region(ct_spatialinfo,modelfiledir,l_min=60, l_max=80, b_min=-4, b_max=4 ):\n",
    "  spatialtype=ct_spatialinfo[\"@type\"]\n",
    "  # print(spatialtype)\n",
    "  if spatialtype==\"DiffuseMap\" or spatialtype==\"DiffuseMapCube\" :\n",
    "    # print(ct_spatialinfo[\"@file\"])\n",
    "    modelfitsfilepath=os.path.join(modelfiledir ,ct_spatialinfo[\"@file\"])\n",
    "    hdul = fits.open(modelfitsfilepath)\n",
    "    # print('========== %s ========'% (modelfitsfilepath))\n",
    "\n",
    "    hdul_i=0\n",
    "    image = hdul[hdul_i].data\n",
    "    while (image is None) :\n",
    "      hdul_i=hdul_i+1\n",
    "      image = hdul[hdul_i].data\n",
    "    wcs = WCS(header=hdul[0].header)\n",
    "    if image.ndim>2 :\n",
    "      im_gal_lonmin, im_gal_lonmax, im_gal_latmin, im_gal_latmax \\\n",
    "        =get_galactic_edges_from_3dimfits(wcs, image)\n",
    "    else : \n",
    "      im_gal_lonmin, im_gal_lonmax, im_gal_latmin, im_gal_latmax \\\n",
    "        =get_galactic_edges_from_2dimfits(wcs, image)\n",
    "      \n",
    "    is_inside= ((im_gal_lonmax > l_min and im_gal_lonmin < l_max )\n",
    "                 and \n",
    "               (im_gal_latmax > b_min and im_gal_latmin < b_max ))\n",
    "    return is_inside\n",
    "  else : \n",
    "    paramvalues=get_values(ct_spatialinfo[\"parameter\"])\n",
    "    sourcedirection=SkyCoord(ra=paramvalues['RA']*u.deg, dec=paramvalues['DEC']*u.deg, frame='icrs')\n",
    "    # print(sourcedirection.galactic)\n",
    "    is_inside= (sourcedirection.galactic.l.degree>l_min and\n",
    "                sourcedirection.galactic.l.degree<l_max and \n",
    "                sourcedirection.galactic.b.degree<b_min and \n",
    "                sourcedirection.galactic.b.degree<b_max \n",
    "                )\n",
    "    # print(is_inside) \n",
    "    return is_inside\n"
   ]
  },
  {
   "cell_type": "markdown",
   "metadata": {},
   "source": [
    "## Generate Gammapy Skymodel\n",
    "### For the selected region around cygnus"
   ]
  },
  {
   "cell_type": "code",
   "execution_count": 2,
   "metadata": {},
   "outputs": [
    {
     "name": "stderr",
     "output_type": "stream",
     "text": [
      "WARNING: FITSFixedWarning: The WCS transformation has more axes (2) than the image it is associated with (0) [astropy.wcs.wcs]\n",
      "WARNING: FITSFixedWarning: 'datfix' made the change 'Set MJD-OBS to 54680.023137 from DATE-OBS.\n",
      "Set MJD-END to 56871.689780 from DATE-END'. [astropy.wcs.wcs]\n",
      "WARNING: FITSFixedWarning: RADECSYS= 'FK5 ' / WCS for this file \n",
      "the RADECSYS keyword is deprecated, use RADESYSa. [astropy.wcs.wcs]\n",
      "WARNING: FITSFixedWarning: 'datfix' made the change 'Set DATEREF to '1990-06-01T21:06:50' from MJDREF.\n",
      "Invalid parameter values: MJD-OBS and DATE-OBS are inconsistent'. [astropy.wcs.wcs]\n"
     ]
    },
    {
     "name": "stdout",
     "output_type": "stream",
     "text": [
      "@ generate_spectralmodel: This spectral model is  BrokenPowerLaw\n",
      "@ generate_spectralmodel: This spectral model is  Multiplicative\n",
      "in compound: first spectrum\n",
      "@ generate_spectralmodel: This spectral model is  PowerLaw\n",
      "in compound: next spectrum\n",
      "ExpCutoffPowerLaw\n",
      "@ generate_spectralmodel: This spectral model is  NodeFunction\n",
      "@ generate_spectralmodel: This spectral model is  NodeFunction\n",
      "@ generate_spectralmodel: This spectral model is  FileFunction\n",
      "@ generate_spectralmodel: This spectral model is  FileFunction\n",
      "@ generate_spectralmodel: This spectral model is  FileFunction\n",
      "@ generate_spectralmodel: This spectral model is  FileFunction\n",
      "@ generate_spectralmodel: This spectral model is  FileFunction\n",
      "@ generate_spectralmodel: This spectral model is  FileFunction\n",
      "@ generate_spectralmodel: This spectral model is  FileFunction\n",
      "@ generate_spectralmodel: This spectral model is  FileFunction\n",
      "@ generate_spectralmodel: This spectral model is  FileFunction\n",
      "@ generate_spectralmodel: This spectral model is  FileFunction\n",
      "@ generate_spectralmodel: This spectral model is  FileFunction\n",
      "@ generate_spectralmodel: This spectral model is  FileFunction\n",
      "@ generate_spectralmodel: This spectral model is  FileFunction\n",
      "@ generate_spectralmodel: This spectral model is  FileFunction\n",
      "@ generate_spectralmodel: This spectral model is  FileFunction\n",
      "@ generate_spectralmodel: This spectral model is  FileFunction\n"
     ]
    },
    {
     "name": "stderr",
     "output_type": "stream",
     "text": [
      "Template file already exits, and overwrite is False\n"
     ]
    },
    {
     "name": "stdout",
     "output_type": "stream",
     "text": [
      "processes 2138 source models in 7.9864 seconds\n"
     ]
    }
   ],
   "source": [
    "import os\n",
    "modelfiledir=\"/Users/kazuma/Workspace/CTA/20221012_NewSkymdlChk/12_Software to assemble Galactic models/gps-luigitibaldo/skymodel/output/\"\n",
    "modelxmlfilepath=os.path.join(modelfiledir ,\"models_gps.xml\")\n",
    "outyamlfilename=\"../outputs/spectral_spatial_models_cygnus.yaml\"\n",
    "\n",
    "import sys \n",
    "sys.path.append(os.path.abspath(\"../skymodelconverter\"))\n",
    "from convert_spectralmodels import ConvertSpectralModel\n",
    "from convert_spatialmodels  import ConvertSpatialModel\n",
    "from convert_temporalmodels  import ConvertTemporalModel\n",
    "\n",
    "converter_spectral=ConvertSpectralModel(modelfiledir)\n",
    "converter_spatial =ConvertSpatialModel(modelfiledir) \n",
    "converter_temporal =ConvertTemporalModel(modelfiledir) \n",
    "########################################################\n",
    "#   Spectral + spatial + save\n",
    "########################################################\n",
    "from gammapy.modeling.models import SkyModel\n",
    "import xmltodict\n",
    "import time\n",
    "tic = time.perf_counter()\n",
    "with open(modelxmlfilepath, encoding='utf-8') as fp:\n",
    "  xml_data = fp.read()\n",
    "  # xml -> dict\n",
    "  dict_data = xmltodict.parse(xml_data)  \n",
    "  dict_data_subset = dict_data[\"source_library\"][\"source\"]\n",
    "  \n",
    "  firstEvtNo=0  \n",
    "  EvtNo=firstEvtNo\n",
    "\n",
    "  from gammapy.modeling.models import Models\n",
    "  skymodels = Models()\n",
    "  for data in dict_data_subset:\n",
    "    gp_spectralmodel=None\n",
    "    gp_spatialmodel= None\n",
    "    gp_temporalmodel=None\n",
    "    EvtNo=EvtNo+1\n",
    "\n",
    "    # ======= Selecting Cygnus Region =============\n",
    "    is_cygnus=see_if_in_the_region(data[\"spatialModel\"],modelfiledir,l_min=60, l_max=80, b_min=-4, b_max=4 )\n",
    "    if not is_cygnus : \n",
    "      continue\n",
    "    else :\n",
    "      ct_spatialinfo=data[\"spatialModel\"]\n",
    "      spatialtype=ct_spatialinfo[\"@type\"] \n",
    "      # print(\"inside the region: {}, {}\".format(data['@name'],spatialtype) )\n",
    "\n",
    "    # ======= Generate skymodel for selected source =============\n",
    "    ct_spectralinfo = data[\"spectrum\"]    \n",
    "    gp_spectralmodel=converter_spectral.generate_spectralmodel(ct_spectralinfo)\n",
    "    # print(gp_spectralmodel)\n",
    "    if \"spatialModel\" in data.keys():\n",
    "      # print('++++++++++ spatial info detected')      \n",
    "      ct_spatialinfo = data[\"spatialModel\"]\n",
    "      ct_spatial_parameters = ct_spatialinfo[\"parameter\"]      \n",
    "      # print('__________  parameters in ctools format _______________________________')\n",
    "      # print(\"Spatial type: \", ct_spatialinfo[\"@type\"], \"with \", len(ct_spatial_parameters), \"parameters\")\n",
    "      gp_spatialmodel=converter_spatial.generate_spatialmodel(ct_spatialinfo)\n",
    "      # print(gp_spatialmodel)\n",
    "    if \"temporal\" in data.keys():\n",
    "      # print('++++++++++ spatial info detected')      \n",
    "      ct_temporalinfo = data[\"temporal\"]\n",
    "      ct_temporal_parameters = ct_temporalinfo[\"parameter\"]      \n",
    "      gp_temporalmodel=converter_temporal.generate_temporalmodel(ct_temporalinfo)\n",
    "      # print(gp_spatialmodel)\n",
    "    skymodel = SkyModel(\n",
    "      name=data['@name'],\n",
    "      spectral_model= gp_spectralmodel,\n",
    "      spatial_model=gp_spatialmodel,\n",
    "      temporal_model=gp_temporalmodel\n",
    "      )\n",
    "    skymodels.append(skymodel)\n",
    "  skymodels.write(outyamlfilename, overwrite=True) \n",
    "  toc = time.perf_counter()\n",
    "  print(f\"processes {EvtNo-firstEvtNo:d} source models in {toc - tic:0.4f} seconds\")      \n",
    "\n"
   ]
  },
  {
   "cell_type": "markdown",
   "metadata": {},
   "source": [
    "### for the first 100 sources"
   ]
  },
  {
   "cell_type": "code",
   "execution_count": 1,
   "metadata": {},
   "outputs": [
    {
     "name": "stdout",
     "output_type": "stream",
     "text": [
      "@ generate_spectralmodel: This spectral model is  ExponentialCutoffPowerLaw\n",
      "@ generate_spectralmodel: This spectral model is  PowerLaw\n",
      "@ generate_spectralmodel: This spectral model is  ExponentialCutoffPowerLaw\n",
      "@ generate_spectralmodel: This spectral model is  PowerLaw\n",
      "@ generate_spectralmodel: This spectral model is  ExponentialCutoffPowerLaw\n",
      "@ generate_spectralmodel: This spectral model is  PowerLaw\n",
      "@ generate_spectralmodel: This spectral model is  ExponentialCutoffPowerLaw\n",
      "@ generate_spectralmodel: This spectral model is  ExponentialCutoffPowerLaw\n",
      "@ generate_spectralmodel: This spectral model is  ExponentialCutoffPowerLaw\n",
      "@ generate_spectralmodel: This spectral model is  ExponentialCutoffPowerLaw\n",
      "@ generate_spectralmodel: This spectral model is  ExponentialCutoffPowerLaw\n",
      "@ generate_spectralmodel: This spectral model is  ExponentialCutoffPowerLaw\n",
      "@ generate_spectralmodel: This spectral model is  ExponentialCutoffPowerLaw\n",
      "@ generate_spectralmodel: This spectral model is  ExponentialCutoffPowerLaw\n",
      "@ generate_spectralmodel: This spectral model is  ExponentialCutoffPowerLaw\n",
      "@ generate_spectralmodel: This spectral model is  ExponentialCutoffPowerLaw\n",
      "@ generate_spectralmodel: This spectral model is  ExponentialCutoffPowerLaw\n",
      "@ generate_spectralmodel: This spectral model is  ExponentialCutoffPowerLaw\n",
      "@ generate_spectralmodel: This spectral model is  ExponentialCutoffPowerLaw\n",
      "@ generate_spectralmodel: This spectral model is  ExponentialCutoffPowerLaw\n",
      "@ generate_spectralmodel: This spectral model is  ExponentialCutoffPowerLaw\n",
      "@ generate_spectralmodel: This spectral model is  ExponentialCutoffPowerLaw\n",
      "@ generate_spectralmodel: This spectral model is  ExponentialCutoffPowerLaw\n",
      "@ generate_spectralmodel: This spectral model is  ExponentialCutoffPowerLaw\n",
      "@ generate_spectralmodel: This spectral model is  ExponentialCutoffPowerLaw\n",
      "@ generate_spectralmodel: This spectral model is  ExponentialCutoffPowerLaw\n",
      "@ generate_spectralmodel: This spectral model is  ExponentialCutoffPowerLaw\n",
      "@ generate_spectralmodel: This spectral model is  PowerLaw\n",
      "@ generate_spectralmodel: This spectral model is  ExponentialCutoffPowerLaw\n",
      "@ generate_spectralmodel: This spectral model is  ExponentialCutoffPowerLaw\n",
      "@ generate_spectralmodel: This spectral model is  ExponentialCutoffPowerLaw\n",
      "@ generate_spectralmodel: This spectral model is  ExponentialCutoffPowerLaw\n",
      "@ generate_spectralmodel: This spectral model is  ExponentialCutoffPowerLaw\n",
      "@ generate_spectralmodel: This spectral model is  ExponentialCutoffPowerLaw\n",
      "@ generate_spectralmodel: This spectral model is  ExponentialCutoffPowerLaw\n",
      "@ generate_spectralmodel: This spectral model is  ExponentialCutoffPowerLaw\n",
      "@ generate_spectralmodel: This spectral model is  ExponentialCutoffPowerLaw\n",
      "@ generate_spectralmodel: This spectral model is  ExponentialCutoffPowerLaw\n",
      "@ generate_spectralmodel: This spectral model is  ExponentialCutoffPowerLaw\n",
      "@ generate_spectralmodel: This spectral model is  ExponentialCutoffPowerLaw\n",
      "@ generate_spectralmodel: This spectral model is  PowerLaw\n",
      "@ generate_spectralmodel: This spectral model is  ExponentialCutoffPowerLaw\n",
      "@ generate_spectralmodel: This spectral model is  ExponentialCutoffPowerLaw\n",
      "@ generate_spectralmodel: This spectral model is  ExponentialCutoffPowerLaw\n",
      "@ generate_spectralmodel: This spectral model is  ExponentialCutoffPowerLaw\n",
      "@ generate_spectralmodel: This spectral model is  ExponentialCutoffPowerLaw\n",
      "@ generate_spectralmodel: This spectral model is  ExponentialCutoffPowerLaw\n",
      "@ generate_spectralmodel: This spectral model is  ExponentialCutoffPowerLaw\n",
      "@ generate_spectralmodel: This spectral model is  ExponentialCutoffPowerLaw\n",
      "@ generate_spectralmodel: This spectral model is  ExponentialCutoffPowerLaw\n"
     ]
    },
    {
     "name": "stderr",
     "output_type": "stream",
     "text": [
      "WARNING: FITSFixedWarning: RADECSYS= 'FK5 ' / WCS for this file \n",
      "the RADECSYS keyword is deprecated, use RADESYSa. [astropy.wcs.wcs]\n",
      "Invalid value BUNIT='JY/BEAM' in FITS header. Setting empty unit.\n"
     ]
    },
    {
     "name": "stdout",
     "output_type": "stream",
     "text": [
      "@ generate_spectralmodel: This spectral model is  ExponentialCutoffPowerLaw\n",
      "@ generate_spectralmodel: This spectral model is  ExponentialCutoffPowerLaw\n",
      "@ generate_spectralmodel: This spectral model is  ExponentialCutoffPowerLaw\n",
      "@ generate_spectralmodel: This spectral model is  ExponentialCutoffPowerLaw\n",
      "@ generate_spectralmodel: This spectral model is  ExponentialCutoffPowerLaw\n",
      "@ generate_spectralmodel: This spectral model is  ExponentialCutoffPowerLaw\n",
      "@ generate_spectralmodel: This spectral model is  ExponentialCutoffPowerLaw\n",
      "@ generate_spectralmodel: This spectral model is  PowerLaw\n",
      "@ generate_spectralmodel: This spectral model is  ExponentialCutoffPowerLaw\n",
      "@ generate_spectralmodel: This spectral model is  ExponentialCutoffPowerLaw\n",
      "@ generate_spectralmodel: This spectral model is  ExponentialCutoffPowerLaw\n",
      "@ generate_spectralmodel: This spectral model is  PowerLaw\n",
      "@ generate_spectralmodel: This spectral model is  ExponentialCutoffPowerLaw\n",
      "@ generate_spectralmodel: This spectral model is  ExponentialCutoffPowerLaw\n",
      "@ generate_spectralmodel: This spectral model is  PowerLaw\n",
      "@ generate_spectralmodel: This spectral model is  ExponentialCutoffPowerLaw\n",
      "@ generate_spectralmodel: This spectral model is  ExponentialCutoffPowerLaw\n",
      "@ generate_spectralmodel: This spectral model is  PowerLaw\n",
      "@ generate_spectralmodel: This spectral model is  PowerLaw\n",
      "@ generate_spectralmodel: This spectral model is  ExponentialCutoffPowerLaw\n",
      "@ generate_spectralmodel: This spectral model is  PowerLaw\n",
      "@ generate_spectralmodel: This spectral model is  ExponentialCutoffPowerLaw\n",
      "@ generate_spectralmodel: This spectral model is  PowerLaw\n",
      "@ generate_spectralmodel: This spectral model is  ExponentialCutoffPowerLaw\n",
      "@ generate_spectralmodel: This spectral model is  ExponentialCutoffPowerLaw\n",
      "@ generate_spectralmodel: This spectral model is  SmoothBrokenPowerLaw\n",
      "@ generate_spectralmodel: This spectral model is  BrokenPowerLaw\n",
      "@ generate_spectralmodel: This spectral model is  ExpCutoff\n",
      "@ generate_spectralmodel: This spectral model is  ExpCutoff\n"
     ]
    },
    {
     "name": "stderr",
     "output_type": "stream",
     "text": [
      "Invalid value BUNIT='JY/BEAM' in FITS header. Setting empty unit.\n",
      "WARNING: FITSFixedWarning: RADECSYS= 'FK5 ' / WCS for this file \n",
      "the RADECSYS keyword is deprecated, use RADESYSa. [astropy.wcs.wcs]\n",
      "WARNING: FITSFixedWarning: 'datfix' made the change 'Set DATEREF to '1990-06-01T21:06:50' from MJDREF.\n",
      "Invalid parameter values: MJD-OBS and DATE-OBS are inconsistent'. [astropy.wcs.wcs]\n",
      "WARNING: FITSFixedWarning: RADECSYS= 'FK5 ' / WCS for this file \n",
      "the RADECSYS keyword is deprecated, use RADESYSa. [astropy.wcs.wcs]\n",
      "WARNING: FITSFixedWarning: 'datfix' made the change 'Set DATEREF to '1990-06-01T21:06:50' from MJDREF.\n",
      "Invalid parameter values: MJD-OBS and DATE-OBS are inconsistent'. [astropy.wcs.wcs]\n"
     ]
    },
    {
     "name": "stdout",
     "output_type": "stream",
     "text": [
      "@ generate_spectralmodel: This spectral model is  ExpCutoff\n",
      "@ generate_spectralmodel: This spectral model is  ExpCutoff\n",
      "@ generate_spectralmodel: This spectral model is  PowerLaw\n",
      "@ generate_spectralmodel: This spectral model is  ExponentialCutoffPowerLaw\n"
     ]
    },
    {
     "name": "stderr",
     "output_type": "stream",
     "text": [
      "Map has negative values. Check and fix this!\n"
     ]
    },
    {
     "name": "stdout",
     "output_type": "stream",
     "text": [
      "@ generate_spectralmodel: This spectral model is  ExponentialCutoffPowerLaw\n",
      "@ generate_spectralmodel: This spectral model is  PowerLaw\n",
      "@ generate_spectralmodel: This spectral model is  PowerLaw\n",
      "@ generate_spectralmodel: This spectral model is  PowerLaw\n",
      "@ generate_spectralmodel: This spectral model is  ExponentialCutoffPowerLaw\n",
      "@ generate_spectralmodel: This spectral model is  PowerLaw\n",
      "@ generate_spectralmodel: This spectral model is  PowerLaw\n",
      "@ generate_spectralmodel: This spectral model is  Constant\n"
     ]
    },
    {
     "name": "stderr",
     "output_type": "stream",
     "text": [
      "WARNING: UnitsWarning: 'photon/cm2/s/MeV/sr' contains multiple slashes, which is discouraged by the FITS standard [astropy.units.format.generic]\n"
     ]
    },
    {
     "name": "stdout",
     "output_type": "stream",
     "text": [
      "@ generate_spectralmodel: This spectral model is  Constant\n"
     ]
    },
    {
     "name": "stderr",
     "output_type": "stream",
     "text": [
      "WARNING: UnitsWarning: 'photon/cm2/s/MeV/sr' contains multiple slashes, which is discouraged by the FITS standard [astropy.units.format.generic]\n"
     ]
    },
    {
     "name": "stdout",
     "output_type": "stream",
     "text": [
      "@ generate_spectralmodel: This spectral model is  Constant\n"
     ]
    },
    {
     "name": "stderr",
     "output_type": "stream",
     "text": [
      "Map has negative values. Check and fix this!\n"
     ]
    },
    {
     "name": "stdout",
     "output_type": "stream",
     "text": [
      "@ generate_spectralmodel: This spectral model is  Constant\n",
      "@ generate_spectralmodel: This spectral model is  Constant\n",
      "@ generate_spectralmodel: This spectral model is  Constant\n"
     ]
    },
    {
     "name": "stderr",
     "output_type": "stream",
     "text": [
      "WARNING: UnitsWarning: 'photon/cm2/s/MeV/sr' contains multiple slashes, which is discouraged by the FITS standard [astropy.units.format.generic]\n"
     ]
    },
    {
     "name": "stdout",
     "output_type": "stream",
     "text": [
      "@ generate_spectralmodel: This spectral model is  ExponentialCutoffPowerLaw\n",
      "@ generate_spectralmodel: This spectral model is  PowerLaw\n",
      "@ generate_spectralmodel: This spectral model is  PowerLaw\n",
      "@ generate_spectralmodel: This spectral model is  PowerLaw\n"
     ]
    },
    {
     "name": "stderr",
     "output_type": "stream",
     "text": [
      "/Users/kazuma/opt/anaconda3/lib/python3.8/site-packages/astropy/units/quantity.py:611: RuntimeWarning: divide by zero encountered in true_divide\n",
      "  result = super().__array_ufunc__(function, method, *arrays, **kwargs)\n",
      "/Users/kazuma/opt/anaconda3/lib/python3.8/site-packages/gammapy/modeling/models/temporal.py:850: RuntimeWarning: invalid value encountered in subtract\n",
      "  phase -= period_number\n",
      "/Users/kazuma/opt/anaconda3/lib/python3.8/site-packages/gammapy/modeling/models/temporal.py:903: RuntimeWarning: invalid value encountered in subtract\n",
      "  phase_integral *= n_max - n_min - 1\n",
      "/Users/kazuma/opt/anaconda3/lib/python3.8/site-packages/astropy/units/quantity.py:611: RuntimeWarning: divide by zero encountered in true_divide\n",
      "  result = super().__array_ufunc__(function, method, *arrays, **kwargs)\n",
      "/Users/kazuma/opt/anaconda3/lib/python3.8/site-packages/astropy/units/quantity.py:611: RuntimeWarning: invalid value encountered in add\n",
      "  result = super().__array_ufunc__(function, method, *arrays, **kwargs)\n",
      "/Users/kazuma/opt/anaconda3/lib/python3.8/site-packages/astropy/units/quantity.py:611: RuntimeWarning: divide by zero encountered in true_divide\n",
      "  result = super().__array_ufunc__(function, method, *arrays, **kwargs)\n",
      "/Users/kazuma/opt/anaconda3/lib/python3.8/site-packages/astropy/units/quantity.py:611: RuntimeWarning: invalid value encountered in add\n",
      "  result = super().__array_ufunc__(function, method, *arrays, **kwargs)\n",
      "Template file already exits, and overwrite is False\n",
      "Template file already exits, and overwrite is False\n",
      "Template file already exits, and overwrite is False\n",
      "Template file already exits, and overwrite is False\n",
      "Template file already exits, and overwrite is False\n",
      "Template file already exits, and overwrite is False\n",
      "Template file already exits, and overwrite is False\n",
      "Template file already exits, and overwrite is False\n",
      "Template file already exits, and overwrite is False\n",
      "Template file already exits, and overwrite is False\n",
      "Template file already exits, and overwrite is False\n",
      "Template file already exits, and overwrite is False\n",
      "Template file already exits, and overwrite is False\n",
      "Template file already exits, and overwrite is False\n",
      "Template file already exits, and overwrite is False\n",
      "Template file already exits, and overwrite is False\n",
      "Template file already exits, and overwrite is False\n",
      "Template file already exits, and overwrite is False\n",
      "Template file already exits, and overwrite is False\n"
     ]
    },
    {
     "name": "stdout",
     "output_type": "stream",
     "text": [
      "processes 100 source models in 56.4463 seconds\n"
     ]
    }
   ],
   "source": [
    "import os\n",
    "modelfiledir=\"/Users/kazuma/Workspace/CTA/20221012_NewSkymdlChk/12_Software to assemble Galactic models/gps-luigitibaldo/skymodel/output/\"\n",
    "modelxmlfilepath=os.path.join(modelfiledir ,\"models_gps.xml\")\n",
    "outyamlfilename=\"../outputs/spectral_spatial_models_gps_0-100.yaml\"\n",
    "\n",
    "import sys \n",
    "sys.path.append(os.path.abspath(\"../skymodelconverter\"))\n",
    "from convert_spectralmodels import ConvertSpectralModel\n",
    "from convert_spatialmodels  import ConvertSpatialModel\n",
    "from convert_temporalmodels  import ConvertTemporalModel\n",
    "\n",
    "converter_spectral=ConvertSpectralModel(modelfiledir)\n",
    "converter_spatial =ConvertSpatialModel(modelfiledir) \n",
    "converter_temporal =ConvertTemporalModel(modelfiledir) \n",
    "########################################################\n",
    "#   Spectral + spatial + save\n",
    "########################################################\n",
    "from gammapy.modeling.models import SkyModel\n",
    "import xmltodict\n",
    "import time\n",
    "tic = time.perf_counter()\n",
    "with open(modelxmlfilepath, encoding='utf-8') as fp:\n",
    "  xml_data = fp.read()\n",
    "  # xml -> dict\n",
    "  dict_data = xmltodict.parse(xml_data)  \n",
    "  dict_data_subset = dict_data[\"source_library\"][\"source\"][0:100]\n",
    "  \n",
    "  firstEvtNo=0  \n",
    "  EvtNo=firstEvtNo\n",
    "\n",
    "  from gammapy.modeling.models import Models\n",
    "  skymodels = Models()\n",
    "  for data in dict_data_subset:\n",
    "    gp_spectralmodel=None\n",
    "    gp_spatialmodel= None\n",
    "    gp_temporalmodel=None\n",
    "    EvtNo=EvtNo+1\n",
    "\n",
    "    # ======= Generate skymodel for selected source =============\n",
    "    ct_spectralinfo = data[\"spectrum\"]    \n",
    "    gp_spectralmodel=converter_spectral.generate_spectralmodel(ct_spectralinfo)\n",
    "    # print(gp_spectralmodel)\n",
    "    if \"spatialModel\" in data.keys():\n",
    "      ct_spatialinfo = data[\"spatialModel\"]\n",
    "      ct_spatial_parameters = ct_spatialinfo[\"parameter\"]      \n",
    "      gp_spatialmodel=converter_spatial.generate_spatialmodel(ct_spatialinfo)\n",
    "      # print(gp_spatialmodel)\n",
    "    if \"temporal\" in data.keys():\n",
    "      # print('++++++++++ spatial info detected')      \n",
    "      ct_temporalinfo = data[\"temporal\"]\n",
    "      ct_temporal_parameters = ct_temporalinfo[\"parameter\"]      \n",
    "      gp_temporalmodel=converter_temporal.generate_temporalmodel(ct_temporalinfo)\n",
    "      # print(gp_spatialmodel)\n",
    "    skymodel = SkyModel(\n",
    "      name=data['@name'],\n",
    "      spectral_model= gp_spectralmodel,\n",
    "      spatial_model=gp_spatialmodel,\n",
    "      temporal_model=gp_temporalmodel\n",
    "      )\n",
    "    skymodels.append(skymodel)\n",
    "  skymodels.write(outyamlfilename, overwrite=True) \n",
    "  toc = time.perf_counter()\n",
    "  print(f\"processes {EvtNo-firstEvtNo:d} source models in {toc - tic:0.4f} seconds\")      \n",
    "\n"
   ]
  }
 ],
 "metadata": {
  "kernelspec": {
   "display_name": "Python 3.8.12 ('base')",
   "language": "python",
   "name": "python3"
  },
  "language_info": {
   "codemirror_mode": {
    "name": "ipython",
    "version": 3
   },
   "file_extension": ".py",
   "mimetype": "text/x-python",
   "name": "python",
   "nbconvert_exporter": "python",
   "pygments_lexer": "ipython3",
   "version": "3.8.12"
  },
  "orig_nbformat": 4,
  "vscode": {
   "interpreter": {
    "hash": "cf213c634ed062bad25259d7b79b386b3e18134c134ee7a2ed755f6f160b08a5"
   }
  }
 },
 "nbformat": 4,
 "nbformat_minor": 2
}
