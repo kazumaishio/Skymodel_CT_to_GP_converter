{
 "cells": [
  {
   "cell_type": "markdown",
   "metadata": {},
   "source": [
    "# Skymodel converter for Westerlund_1\n",
    "-----\n",
    "-  prototype version of skymodel converter\n",
    "-  use the latest gammapy version\n",
    "## Issues\n",
    "### All the source names in the skymodel xml file are identical \"Westerlund 1”.  \n",
    "Thus the sequential numbers were added to the source names in order to convert to the yaml file."
   ]
  },
  {
   "cell_type": "markdown",
   "metadata": {},
   "source": [
    "## Generate Gammapy Skymodel"
   ]
  },
  {
   "cell_type": "code",
   "execution_count": 2,
   "metadata": {},
   "outputs": [
    {
     "name": "stderr",
     "output_type": "stream",
     "text": [
      "Map has negative values. Check and fix this!\n"
     ]
    },
    {
     "name": "stdout",
     "output_type": "stream",
     "text": [
      "@ generate_spectralmodel: This spectral model is  Constant\n"
     ]
    },
    {
     "name": "stderr",
     "output_type": "stream",
     "text": [
      "Map has negative values. Check and fix this!\n"
     ]
    },
    {
     "name": "stdout",
     "output_type": "stream",
     "text": [
      "@ generate_spectralmodel: This spectral model is  Constant\n"
     ]
    },
    {
     "name": "stderr",
     "output_type": "stream",
     "text": [
      "Map has negative values. Check and fix this!\n"
     ]
    },
    {
     "name": "stdout",
     "output_type": "stream",
     "text": [
      "@ generate_spectralmodel: This spectral model is  Constant\n"
     ]
    },
    {
     "name": "stderr",
     "output_type": "stream",
     "text": [
      "Map has negative values. Check and fix this!\n"
     ]
    },
    {
     "name": "stdout",
     "output_type": "stream",
     "text": [
      "@ generate_spectralmodel: This spectral model is  Constant\n"
     ]
    },
    {
     "name": "stderr",
     "output_type": "stream",
     "text": [
      "Map has negative values. Check and fix this!\n"
     ]
    },
    {
     "name": "stdout",
     "output_type": "stream",
     "text": [
      "@ generate_spectralmodel: This spectral model is  Constant\n"
     ]
    },
    {
     "name": "stderr",
     "output_type": "stream",
     "text": [
      "Map has negative values. Check and fix this!\n"
     ]
    },
    {
     "name": "stdout",
     "output_type": "stream",
     "text": [
      "@ generate_spectralmodel: This spectral model is  Constant\n"
     ]
    },
    {
     "name": "stderr",
     "output_type": "stream",
     "text": [
      "Map has negative values. Check and fix this!\n"
     ]
    },
    {
     "name": "stdout",
     "output_type": "stream",
     "text": [
      "@ generate_spectralmodel: This spectral model is  Constant\n"
     ]
    },
    {
     "name": "stderr",
     "output_type": "stream",
     "text": [
      "Map has negative values. Check and fix this!\n"
     ]
    },
    {
     "name": "stdout",
     "output_type": "stream",
     "text": [
      "@ generate_spectralmodel: This spectral model is  Constant\n"
     ]
    },
    {
     "name": "stderr",
     "output_type": "stream",
     "text": [
      "Map has negative values. Check and fix this!\n"
     ]
    },
    {
     "name": "stdout",
     "output_type": "stream",
     "text": [
      "@ generate_spectralmodel: This spectral model is  Constant\n"
     ]
    },
    {
     "name": "stderr",
     "output_type": "stream",
     "text": [
      "Map has negative values. Check and fix this!\n"
     ]
    },
    {
     "name": "stdout",
     "output_type": "stream",
     "text": [
      "@ generate_spectralmodel: This spectral model is  Constant\n"
     ]
    },
    {
     "name": "stderr",
     "output_type": "stream",
     "text": [
      "Map has negative values. Check and fix this!\n"
     ]
    },
    {
     "name": "stdout",
     "output_type": "stream",
     "text": [
      "@ generate_spectralmodel: This spectral model is  Constant\n"
     ]
    },
    {
     "name": "stderr",
     "output_type": "stream",
     "text": [
      "Map has negative values. Check and fix this!\n"
     ]
    },
    {
     "name": "stdout",
     "output_type": "stream",
     "text": [
      "@ generate_spectralmodel: This spectral model is  Constant\n"
     ]
    },
    {
     "name": "stderr",
     "output_type": "stream",
     "text": [
      "Map has negative values. Check and fix this!\n"
     ]
    },
    {
     "name": "stdout",
     "output_type": "stream",
     "text": [
      "@ generate_spectralmodel: This spectral model is  Constant\n"
     ]
    },
    {
     "name": "stderr",
     "output_type": "stream",
     "text": [
      "Map has negative values. Check and fix this!\n"
     ]
    },
    {
     "name": "stdout",
     "output_type": "stream",
     "text": [
      "@ generate_spectralmodel: This spectral model is  Constant\n"
     ]
    },
    {
     "name": "stderr",
     "output_type": "stream",
     "text": [
      "Map has negative values. Check and fix this!\n"
     ]
    },
    {
     "name": "stdout",
     "output_type": "stream",
     "text": [
      "@ generate_spectralmodel: This spectral model is  Constant\n"
     ]
    },
    {
     "name": "stderr",
     "output_type": "stream",
     "text": [
      "Map has negative values. Check and fix this!\n"
     ]
    },
    {
     "name": "stdout",
     "output_type": "stream",
     "text": [
      "@ generate_spectralmodel: This spectral model is  Constant\n"
     ]
    },
    {
     "name": "stderr",
     "output_type": "stream",
     "text": [
      "Map has negative values. Check and fix this!\n"
     ]
    },
    {
     "name": "stdout",
     "output_type": "stream",
     "text": [
      "@ generate_spectralmodel: This spectral model is  Constant\n"
     ]
    },
    {
     "name": "stderr",
     "output_type": "stream",
     "text": [
      "Map has negative values. Check and fix this!\n"
     ]
    },
    {
     "name": "stdout",
     "output_type": "stream",
     "text": [
      "@ generate_spectralmodel: This spectral model is  Constant\n"
     ]
    },
    {
     "name": "stderr",
     "output_type": "stream",
     "text": [
      "Map has negative values. Check and fix this!\n"
     ]
    },
    {
     "name": "stdout",
     "output_type": "stream",
     "text": [
      "@ generate_spectralmodel: This spectral model is  Constant\n"
     ]
    },
    {
     "name": "stderr",
     "output_type": "stream",
     "text": [
      "Map has negative values. Check and fix this!\n"
     ]
    },
    {
     "name": "stdout",
     "output_type": "stream",
     "text": [
      "@ generate_spectralmodel: This spectral model is  Constant\n"
     ]
    },
    {
     "name": "stderr",
     "output_type": "stream",
     "text": [
      "Map has negative values. Check and fix this!\n"
     ]
    },
    {
     "name": "stdout",
     "output_type": "stream",
     "text": [
      "@ generate_spectralmodel: This spectral model is  Constant\n"
     ]
    },
    {
     "name": "stderr",
     "output_type": "stream",
     "text": [
      "Map has negative values. Check and fix this!\n"
     ]
    },
    {
     "name": "stdout",
     "output_type": "stream",
     "text": [
      "@ generate_spectralmodel: This spectral model is  Constant\n"
     ]
    },
    {
     "name": "stderr",
     "output_type": "stream",
     "text": [
      "Map has negative values. Check and fix this!\n"
     ]
    },
    {
     "name": "stdout",
     "output_type": "stream",
     "text": [
      "@ generate_spectralmodel: This spectral model is  Constant\n"
     ]
    },
    {
     "name": "stderr",
     "output_type": "stream",
     "text": [
      "Map has negative values. Check and fix this!\n"
     ]
    },
    {
     "name": "stdout",
     "output_type": "stream",
     "text": [
      "@ generate_spectralmodel: This spectral model is  Constant\n"
     ]
    },
    {
     "name": "stderr",
     "output_type": "stream",
     "text": [
      "Map has negative values. Check and fix this!\n"
     ]
    },
    {
     "name": "stdout",
     "output_type": "stream",
     "text": [
      "@ generate_spectralmodel: This spectral model is  Constant\n"
     ]
    },
    {
     "name": "stderr",
     "output_type": "stream",
     "text": [
      "Map has negative values. Check and fix this!\n"
     ]
    },
    {
     "name": "stdout",
     "output_type": "stream",
     "text": [
      "@ generate_spectralmodel: This spectral model is  Constant\n"
     ]
    },
    {
     "name": "stderr",
     "output_type": "stream",
     "text": [
      "Map has negative values. Check and fix this!\n"
     ]
    },
    {
     "name": "stdout",
     "output_type": "stream",
     "text": [
      "@ generate_spectralmodel: This spectral model is  Constant\n"
     ]
    },
    {
     "name": "stderr",
     "output_type": "stream",
     "text": [
      "Template file already exits, and overwrite is False\n",
      "Template file already exits, and overwrite is False\n",
      "Template file already exits, and overwrite is False\n",
      "Template file already exits, and overwrite is False\n",
      "Template file already exits, and overwrite is False\n",
      "Template file already exits, and overwrite is False\n",
      "Template file already exits, and overwrite is False\n",
      "Template file already exits, and overwrite is False\n",
      "Template file already exits, and overwrite is False\n",
      "Template file already exits, and overwrite is False\n",
      "Template file already exits, and overwrite is False\n",
      "Template file already exits, and overwrite is False\n",
      "Template file already exits, and overwrite is False\n",
      "Template file already exits, and overwrite is False\n",
      "Template file already exits, and overwrite is False\n",
      "Template file already exits, and overwrite is False\n",
      "Template file already exits, and overwrite is False\n",
      "Template file already exits, and overwrite is False\n",
      "Template file already exits, and overwrite is False\n",
      "Template file already exits, and overwrite is False\n",
      "Template file already exits, and overwrite is False\n",
      "Template file already exits, and overwrite is False\n",
      "Template file already exits, and overwrite is False\n",
      "Template file already exits, and overwrite is False\n",
      "Template file already exits, and overwrite is False\n",
      "Template file already exits, and overwrite is False\n",
      "Template file already exits, and overwrite is False\n"
     ]
    },
    {
     "name": "stdout",
     "output_type": "stream",
     "text": [
      "processes 27 source models in 7.7665 seconds\n"
     ]
    }
   ],
   "source": [
    "import os\n",
    "modelfiledir=\"/Users/kazuma/Workspace/CTA/20231206_CTADC_Convert_others/skymodels/Westerlund_1\"\n",
    "modelxmlfilepath=os.path.join(modelfiledir ,\"Wd1.xml\")\n",
    "outyamlfilename=os.path.join(modelfiledir ,\"modelconvert_output/spectral_spatial_models_Westerlund_1.yaml\")\n",
    "\n",
    "import sys \n",
    "sys.path.append(os.path.abspath(\"../skymodelconverter\"))\n",
    "from convert_spectralmodels import ConvertSpectralModel\n",
    "from convert_spatialmodels  import ConvertSpatialModel\n",
    "from convert_temporalmodels  import ConvertTemporalModel\n",
    "\n",
    "converter_spectral=ConvertSpectralModel(modelfiledir)\n",
    "converter_spatial =ConvertSpatialModel(modelfiledir) \n",
    "converter_temporal =ConvertTemporalModel(modelfiledir) \n",
    "########################################################\n",
    "#   Spectral + spatial + temporal + save\n",
    "########################################################\n",
    "from gammapy.modeling.models import SkyModel\n",
    "import xmltodict\n",
    "import time\n",
    "tic = time.perf_counter()\n",
    "with open(modelxmlfilepath, encoding='utf-8') as fp:\n",
    "  xml_data = fp.read()\n",
    "  # xml -> dict\n",
    "  dict_data = xmltodict.parse(xml_data)  \n",
    "  if type(dict_data[\"source_library\"][\"source\"]) == list: \n",
    "    dict_data_subset = dict_data[\"source_library\"][\"source\"]\n",
    "  else:\n",
    "    dict_data_subset = [dict_data[\"source_library\"][\"source\"]]\n",
    "  \n",
    "  firstEvtNo=0  \n",
    "  EvtNo=firstEvtNo\n",
    "\n",
    "  from gammapy.modeling.models import Models\n",
    "  skymodels = Models()\n",
    "  for idx, data in enumerate(dict_data_subset):\n",
    "    gp_spectralmodel=None\n",
    "    gp_spatialmodel= None\n",
    "    gp_temporalmodel=None\n",
    "    EvtNo=EvtNo+1\n",
    "\n",
    "    ct_spatialinfo=data[\"spatialModel\"]\n",
    "    spatialtype=ct_spatialinfo[\"@type\"] \n",
    "    # print(\"inside the region: {}, {}\".format(data['@name'],spatialtype) )\n",
    "\n",
    "    # ======= Generate skymodel for selected source =============\n",
    "    ct_spectralinfo = data[\"spectrum\"]    \n",
    "    gp_spectralmodel=converter_spectral.generate_spectralmodel(ct_spectralinfo)\n",
    "    # print(gp_spectralmodel)\n",
    "    if \"spatialModel\" in data.keys():\n",
    "      # print('++++++++++ spatial info detected')      \n",
    "      ct_spatialinfo = data[\"spatialModel\"]\n",
    "      ct_spatial_parameters = ct_spatialinfo[\"parameter\"]      \n",
    "      # print('__________  parameters in ctools format _______________________________')\n",
    "      # print(\"Spatial type: \", ct_spatialinfo[\"@type\"], \"with \", len(ct_spatial_parameters), \"parameters\")\n",
    "      gp_spatialmodel=converter_spatial.generate_spatialmodel(ct_spatialinfo)\n",
    "      # print(gp_spatialmodel)\n",
    "    if \"temporal\" in data.keys():\n",
    "      # print('++++++++++ spatial info detected')      \n",
    "      ct_temporalinfo = data[\"temporal\"]\n",
    "      ct_temporal_parameters = ct_temporalinfo[\"parameter\"]      \n",
    "      gp_temporalmodel=converter_temporal.generate_temporalmodel(ct_temporalinfo)\n",
    "      # print(gp_spatialmodel)\n",
    "    skymodel = SkyModel(\n",
    "      name=\"{}_src{}\".format(data['@name'], idx),\n",
    "      spectral_model= gp_spectralmodel,\n",
    "      spatial_model=gp_spatialmodel,\n",
    "      temporal_model=gp_temporalmodel\n",
    "      )\n",
    "    skymodels.append(skymodel)\n",
    "  skymodels.write(outyamlfilename, overwrite=True) \n",
    "  toc = time.perf_counter()\n",
    "  print(f\"processes {EvtNo-firstEvtNo:d} source models in {toc - tic:0.4f} seconds\")      \n",
    "\n"
   ]
  }
 ],
 "metadata": {
  "kernelspec": {
   "display_name": "Python 3.8.12 ('base')",
   "language": "python",
   "name": "python3"
  },
  "language_info": {
   "codemirror_mode": {
    "name": "ipython",
    "version": 3
   },
   "file_extension": ".py",
   "mimetype": "text/x-python",
   "name": "python",
   "nbconvert_exporter": "python",
   "pygments_lexer": "ipython3",
   "version": "3.11.5"
  },
  "orig_nbformat": 4,
  "vscode": {
   "interpreter": {
    "hash": "cf213c634ed062bad25259d7b79b386b3e18134c134ee7a2ed755f6f160b08a5"
   }
  }
 },
 "nbformat": 4,
 "nbformat_minor": 2
}
